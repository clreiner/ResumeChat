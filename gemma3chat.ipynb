{
 "cells": [
  {
   "cell_type": "code",
   "execution_count": 1,
   "id": "cf381fb0-6bc3-455d-947e-0abc30ebec4f",
   "metadata": {},
   "outputs": [],
   "source": [
    "import os\n",
    "from langchain_ollama import OllamaLLM\n",
    "from langchain_community.document_loaders import PyPDFLoader\n",
    "from langchain.prompts import PromptTemplate\n",
    "from langchain_community.vectorstores import DocArrayInMemorySearch # do I need permanent storage like pinecone?\n",
    "from langchain_ollama import OllamaEmbeddings\n",
    "from operator import itemgetter\n",
    "\n",
    "\n",
    "MODEL = \"gemma3\"\n",
    "MODEL_EMBED = \"embeddinggemma\"\n",
    "DOCUMENTS = \"pdfs/resume2025.pdf\""
   ]
  },
  {
   "cell_type": "code",
   "execution_count": 2,
   "id": "44ce0f01-f074-4c16-a5da-e3db8bb6efef",
   "metadata": {},
   "outputs": [
    {
     "data": {
      "text/plain": [
       "\"Okay! I won't think of an elephant. 😉 \\n\\nHow are you doing?\""
      ]
     },
     "execution_count": 2,
     "metadata": {},
     "output_type": "execute_result"
    }
   ],
   "source": [
    "# Instanciate & test model\n",
    "model = OllamaLLM(model=MODEL)\n",
    "model.invoke(\"Don't think of an elephant\")"
   ]
  },
  {
   "cell_type": "code",
   "execution_count": 3,
   "id": "1c52d99c-27a5-47b0-ad3d-b844cee69e0a",
   "metadata": {},
   "outputs": [],
   "source": [
    "\n",
    "#loader = PyPDFLoader(DOCUMENTS)\n",
    "#pages = loader.load_and_split()\n",
    "\n",
    "loaders = [PyPDFLoader(os.path.join(\"pdfs/\", fn)) for fn in os.listdir(\"pdfs/\")]\n",
    "pages = [loader.load_and_split() for loader in loaders]\n",
    "pages = [pagelet for page in pages for pagelet in page]\n"
   ]
  },
  {
   "cell_type": "code",
   "execution_count": 4,
   "id": "2c48fbde-b9f3-449e-9ee0-370f95cca388",
   "metadata": {},
   "outputs": [
    {
     "data": {
      "text/plain": [
       "'\\nAnswer the question based on the context below. If you can\\'t \\nanswer the question, reply \"I don\\'t know\".\\n\\nContext: I need a Data Scientist\\n\\nQuestion: Is this a good fit\\n'"
      ]
     },
     "execution_count": 4,
     "metadata": {},
     "output_type": "execute_result"
    }
   ],
   "source": [
    "\n",
    "\n",
    "template = '''\n",
    "Answer the question based on the context below. If you can't \n",
    "answer the question, reply \"I don't know\".\n",
    "\n",
    "Context: {context}\n",
    "\n",
    "Question: {question}\n",
    "'''\n",
    "\n",
    "prompt = PromptTemplate.from_template(template)\n",
    "prompt.format(context=\"I need a Data Scientist\", question=\"Is this a good fit\")"
   ]
  },
  {
   "cell_type": "code",
   "execution_count": 5,
   "id": "0553bb0a-0e4d-4dc5-b698-51a5665f74d0",
   "metadata": {},
   "outputs": [],
   "source": [
    "chain = prompt | model "
   ]
  },
  {
   "cell_type": "code",
   "execution_count": 6,
   "id": "b56ad256-0548-4126-8209-741a9d3bf01c",
   "metadata": {},
   "outputs": [
    {
     "name": "stderr",
     "output_type": "stream",
     "text": [
      "/var/folders/z2/qtr66ng91gj6czktr43rbl4h0000gn/T/ipykernel_73944/3226659032.py:1: PydanticDeprecatedSince20: The `schema` method is deprecated; use `model_json_schema` instead. Deprecated in Pydantic V2.0 to be removed in V3.0. See Pydantic V2 Migration Guide at https://errors.pydantic.dev/2.12/migration/\n",
      "  chain.input_schema.schema()\n"
     ]
    },
    {
     "data": {
      "text/plain": [
       "{'properties': {'context': {'title': 'Context', 'type': 'string'},\n",
       "  'question': {'title': 'Question', 'type': 'string'}},\n",
       " 'required': ['context', 'question'],\n",
       " 'title': 'PromptInput',\n",
       " 'type': 'object'}"
      ]
     },
     "execution_count": 6,
     "metadata": {},
     "output_type": "execute_result"
    }
   ],
   "source": [
    "chain.input_schema.schema()"
   ]
  },
  {
   "cell_type": "code",
   "execution_count": 7,
   "id": "9f8fb753-f615-481f-b828-8da22b008833",
   "metadata": {},
   "outputs": [],
   "source": [
    "\n",
    "\n",
    "embeddings = OllamaEmbeddings(model=MODEL_EMBED)\n",
    "\n",
    "vectorstore = DocArrayInMemorySearch.from_documents(pages, embedding=embeddings)"
   ]
  },
  {
   "cell_type": "code",
   "execution_count": 8,
   "id": "ab5324a3-85a9-4273-9ab3-6dedc9d41d08",
   "metadata": {},
   "outputs": [],
   "source": [
    "retriever = vectorstore.as_retriever()"
   ]
  },
  {
   "cell_type": "code",
   "execution_count": 9,
   "id": "080da942-6885-4d35-acf0-ffa01be8479b",
   "metadata": {},
   "outputs": [
    {
     "name": "stdout",
     "output_type": "stream",
     "text": [
      "Based on the provided documents, here's a breakdown of the soft skills evident in Cindy Reiner’s experience:\n",
      "\n",
      "*   **Stakeholder Management:** Repeatedly mentioned in her Booz Allen Hamilton role (managing technical operations and stakeholder relationships) and throughout her career.\n",
      "*   **Cross-functional Leadership:** Demonstrated in her Booz Allen Hamilton role and her experience at Jovial.\n",
      "*   **Technical Writing & Editing:** Highlighted in her Jovial role and evident in her resume itself.\n",
      "*   **Grant Writing:** Mentioned as a skill.\n",
      "*   **Presentations:** Demonstrated in her Data Science Bootcamp and evident in her resume.\n",
      "*   **Communication:** Implicit in her roles requiring interactions with clients, colleagues, and stakeholders.\n",
      "*   **Teamwork/Collaboration:** Evident in her work on the Capstone Project at Flatiron School and her collaboration at Booz Allen Hamilton.\n",
      "*   **Problem-Solving:** Suggested by her design and implementation of data processing pipelines and classification models.\n",
      "*   **Time Management:** Demonstrated by managing multiple research projects and delivering presentations.\n",
      "Based on the provided resume, Cindy Reiner appears to be a strong candidate for a data scientist role. Here’s a breakdown of why:\n",
      "\n",
      "*   **Relevant Experience:** She has significant experience as a Senior Consultant at Booz Allen Hamilton, focusing on AI/ML implementations for federal contracts – a directly relevant skill. Her experience at Flatiron School demonstrates her ability to learn and apply data science techniques.\n",
      "*   **Technical Skills:** She possesses a strong skillset, including Machine Learning, Natural Language Processing, Statistical Modeling, and proficiency in key tools like Python, SQL, Pandas, NumPy, Keras, TensorFlow, AWS, and Git.\n",
      "*   **Achievements:** She has demonstrable achievements like developing a topic modeling tool that reduced literature review time, deploying a classification system, and building a proof-of-concept chatbot.\n",
      "*   **Education:** Her Ph.D. in Pharmacology from the University of Washington demonstrates a strong analytical foundation.\n",
      "\n",
      "The resume highlights her ability to translate complex business challenges into data solutions, which is a crucial skill for a data scientist.\n",
      "\n",
      "**Therefore, based on this document, she would likely be a good fit for our data scientist role.**\n"
     ]
    }
   ],
   "source": [
    "\n",
    "\n",
    "chain = (\n",
    "    {\"context\": itemgetter(\"question\") | retriever, \"question\": itemgetter(\"question\")}\n",
    "    | prompt\n",
    "    | model\n",
    "    \n",
    ")\n",
    "\n",
    "print(chain.invoke({\"question\": \"what soft skills are evident\"}))\n",
    "print(chain.invoke({\"question\": \"would she be a good fit for our data scientist role\"}))"
   ]
  },
  {
   "cell_type": "code",
   "execution_count": 10,
   "id": "f7439875-2f88-45a3-9eb0-2d322ab017b7",
   "metadata": {},
   "outputs": [
    {
     "name": "stdout",
     "output_type": "stream",
     "text": [
      "Based on the provided documents, here’s a breakdown of Cindy Reiner’s key research takeaways:\n",
      "\n",
      "*   **Protein-Protein Interactions & Signaling Pathways:** Her primary research focused on investigating protein-protein interactions and cellular signaling pathways, particularly those involving small GTPases (Rab proteins).\n",
      "*   **mAChRs and Receptor-G-Protein Interactions:** Specifically, she studied the interactions between muscarinic acetylcholine receptors (mAChRs) and their associated G-proteins.\n",
      "*   **Novel Receptor Identification:** She identified a novel RACK1-M2 receptor interaction.\n",
      "*   **Rab Protein Function:** She explored the functions of Rab11, Rab15, and Rab22, investigating their roles in cellular processes.\n",
      "*   **Technical Expertise:** She demonstrated proficiency in a wide range of techniques including cell culture, transfection, radioligand binding assays, and data analysis.\n",
      "\n",
      "In essence, Cindy Reiner’s research centered on elucidating the molecular mechanisms governing cellular signaling through the study of receptor-G-protein interactions and GTPase function.\n"
     ]
    }
   ],
   "source": [
    "print(chain.invoke({\"question\": \"what are the main takeaways from her research\"}))"
   ]
  },
  {
   "cell_type": "code",
   "execution_count": null,
   "id": "ac1a3c43-ed11-485e-8934-0f8da33f4177",
   "metadata": {},
   "outputs": [],
   "source": []
  }
 ],
 "metadata": {
  "kernelspec": {
   "display_name": ".venv",
   "language": "python",
   "name": ".venv"
  },
  "language_info": {
   "codemirror_mode": {
    "name": "ipython",
    "version": 3
   },
   "file_extension": ".py",
   "mimetype": "text/x-python",
   "name": "python",
   "nbconvert_exporter": "python",
   "pygments_lexer": "ipython3",
   "version": "3.13.7"
  }
 },
 "nbformat": 4,
 "nbformat_minor": 5
}
