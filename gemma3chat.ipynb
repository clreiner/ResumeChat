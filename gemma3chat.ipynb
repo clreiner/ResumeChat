{
 "cells": [
  {
   "cell_type": "code",
   "execution_count": 22,
   "id": "cf381fb0-6bc3-455d-947e-0abc30ebec4f",
   "metadata": {},
   "outputs": [],
   "source": [
    "import os\n",
    "\n",
    "MODEL = \"gemma3\"\n",
    "MODEL_EMBED = \"embeddinggemma\"\n"
   ]
  },
  {
   "cell_type": "code",
   "execution_count": 6,
   "id": "44ce0f01-f074-4c16-a5da-e3db8bb6efef",
   "metadata": {},
   "outputs": [
    {
     "data": {
      "text/plain": [
       "'Why did the scarecrow win an award? \\n\\n... Because he was outstanding in his field! 😄 \\n\\n---\\n\\nWould you like to hear another one?'"
      ]
     },
     "execution_count": 6,
     "metadata": {},
     "output_type": "execute_result"
    }
   ],
   "source": [
    "from langchain_ollama import OllamaLLM\n",
    "\n",
    "model = Ollama(model=MODEL)\n",
    "\n",
    "model.invoke('tell me a joke')"
   ]
  },
  {
   "cell_type": "code",
   "execution_count": 9,
   "id": "1c52d99c-27a5-47b0-ad3d-b844cee69e0a",
   "metadata": {},
   "outputs": [],
   "source": [
    "from langchain_community.document_loaders import PyPDFLoader\n",
    "\n",
    "loader = PyPDFLoader(\"resume2025.pdf\")\n",
    "pages = loader.load_and_split()\n"
   ]
  },
  {
   "cell_type": "code",
   "execution_count": 10,
   "id": "2c48fbde-b9f3-449e-9ee0-370f95cca388",
   "metadata": {},
   "outputs": [
    {
     "data": {
      "text/plain": [
       "'\\nAnswer the question based on the context below. If you can\\'t \\nanswer the question, reply \"I don\\'t know\".\\n\\nContext: I need a Data Scientist\\n\\nQuestion: Is this a good fit\\n'"
      ]
     },
     "execution_count": 10,
     "metadata": {},
     "output_type": "execute_result"
    }
   ],
   "source": [
    "from langchain.prompts import PromptTemplate\n",
    "\n",
    "template = '''\n",
    "Answer the question based on the context below. If you can't \n",
    "answer the question, reply \"I don't know\".\n",
    "\n",
    "Context: {context}\n",
    "\n",
    "Question: {question}\n",
    "'''\n",
    "\n",
    "prompt = PromptTemplate.from_template(template)\n",
    "prompt.format(context=\"I need a Data Scientist\", question=\"Is this a good fit\")"
   ]
  },
  {
   "cell_type": "code",
   "execution_count": 12,
   "id": "0553bb0a-0e4d-4dc5-b698-51a5665f74d0",
   "metadata": {},
   "outputs": [],
   "source": [
    "chain = prompt | model "
   ]
  },
  {
   "cell_type": "code",
   "execution_count": 13,
   "id": "b56ad256-0548-4126-8209-741a9d3bf01c",
   "metadata": {},
   "outputs": [
    {
     "name": "stderr",
     "output_type": "stream",
     "text": [
      "/var/folders/z2/qtr66ng91gj6czktr43rbl4h0000gn/T/ipykernel_33505/3226659032.py:1: PydanticDeprecatedSince20: The `schema` method is deprecated; use `model_json_schema` instead. Deprecated in Pydantic V2.0 to be removed in V3.0. See Pydantic V2 Migration Guide at https://errors.pydantic.dev/2.12/migration/\n",
      "  chain.input_schema.schema()\n"
     ]
    },
    {
     "data": {
      "text/plain": [
       "{'properties': {'context': {'title': 'Context', 'type': 'string'},\n",
       "  'question': {'title': 'Question', 'type': 'string'}},\n",
       " 'required': ['context', 'question'],\n",
       " 'title': 'PromptInput',\n",
       " 'type': 'object'}"
      ]
     },
     "execution_count": 13,
     "metadata": {},
     "output_type": "execute_result"
    }
   ],
   "source": [
    "chain.input_schema.schema()"
   ]
  },
  {
   "cell_type": "code",
   "execution_count": 11,
   "id": "8bad46db-4745-47a6-b40b-bac24e62ba42",
   "metadata": {},
   "outputs": [
    {
     "data": {
      "text/plain": [
       "'You need a data scientist who knows Python.'"
      ]
     },
     "execution_count": 11,
     "metadata": {},
     "output_type": "execute_result"
    }
   ],
   "source": [
    "chain.invoke(\n",
    "    {\n",
    "        'context': 'I need a data scientist who knows python',\n",
    "        'question': 'what do i need'\n",
    "    }\n",
    ")"
   ]
  },
  {
   "cell_type": "code",
   "execution_count": 23,
   "id": "9f8fb753-f615-481f-b828-8da22b008833",
   "metadata": {},
   "outputs": [],
   "source": [
    "from langchain_community.vectorstores import DocArrayInMemorySearch # do I need permanent storage like pinecone?\n",
    "from langchain_ollama import OllamaEmbeddings\n",
    "\n",
    "embeddings = OllamaEmbeddings(model=MODEL_EMBED)\n",
    "\n",
    "vectorstore = DocArrayInMemorySearch.from_documents(pages, embedding=embeddings)"
   ]
  },
  {
   "cell_type": "code",
   "execution_count": 25,
   "id": "ab5324a3-85a9-4273-9ab3-6dedc9d41d08",
   "metadata": {},
   "outputs": [],
   "source": [
    "retriever = vectorstore.as_retriever()"
   ]
  },
  {
   "cell_type": "code",
   "execution_count": 31,
   "id": "080da942-6885-4d35-acf0-ffa01be8479b",
   "metadata": {},
   "outputs": [
    {
     "name": "stdout",
     "output_type": "stream",
     "text": [
      "Based on the provided document, the following soft skills are evident:\n",
      "\n",
      "*   **Cross-functional Leadership:** Demonstrated in her roles at Booz Allen Hamilton and Jovial.\n",
      "*   **Stakeholder Management:** Highlighted in multiple experiences, including client relationships at Jovial and collaboration with SMEs at Booz Allen.\n",
      "*   **Technical Writing & Editing:** Mentioned as a key skill and evident in her roles at Jovial and as a contract scientific editor.\n",
      "*   **Communication:** Clear from her presentations, technical writing, and ability to explain complex concepts to non-technical audiences.\n",
      "*   **Teamwork/Collaboration:** Working with SMEs, researchers, developers, and students suggests a collaborative approach.\n",
      "*   **Presentation Skills:** Explicitly mentioned as a key skill, and demonstrated through her capstone project and other roles.\n"
     ]
    }
   ],
   "source": [
    "from operator import itemgetter\n",
    "\n",
    "chain = (\n",
    "    {\"context\": itemgetter(\"question\") | retriever, \"question\": itemgetter(\"question\")}\n",
    "    | prompt\n",
    "    | model\n",
    "    \n",
    ")\n",
    "\n",
    "print(chain.invoke({\"question\": \"what soft skills are evident\"}))\n",
    "print(chain.invoke({\"question\": \"would she be a good fit for our data scientist role\"}))"
   ]
  },
  {
   "cell_type": "code",
   "execution_count": null,
   "id": "f7439875-2f88-45a3-9eb0-2d322ab017b7",
   "metadata": {},
   "outputs": [],
   "source": []
  }
 ],
 "metadata": {
  "kernelspec": {
   "display_name": ".venv",
   "language": "python",
   "name": ".venv"
  },
  "language_info": {
   "codemirror_mode": {
    "name": "ipython",
    "version": 3
   },
   "file_extension": ".py",
   "mimetype": "text/x-python",
   "name": "python",
   "nbconvert_exporter": "python",
   "pygments_lexer": "ipython3",
   "version": "3.13.7"
  }
 },
 "nbformat": 4,
 "nbformat_minor": 5
}
